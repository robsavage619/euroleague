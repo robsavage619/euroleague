{
 "cells": [
  {
   "cell_type": "markdown",
   "metadata": {},
   "source": [
    "## Exploration - Euroleague Project"
   ]
  },
  {
   "cell_type": "code",
   "execution_count": 142,
   "metadata": {},
   "outputs": [],
   "source": [
    "import pandas as pd\n",
    "import seaborn as sns\n",
    "import numpy as np\n",
    "import math\n",
    "import glob"
   ]
  },
  {
   "cell_type": "code",
   "execution_count": 143,
   "metadata": {},
   "outputs": [],
   "source": [
    "# Concatenating all the NBA foreign born files into one\n",
    "files = glob.glob('data/nba/*csv')\n",
    "dfs = []\n",
    "for file in files:\n",
    "    df = pd.read_csv(file)\n",
    "    df['Country'] = file\n",
    "    dfs.append(df)\n",
    "    df['Country'] = df['Country'].str.split('_').str[0]\n",
    "df = pd.concat(dfs, ignore_index=True)\n",
    "df['Country'] = df['Country'].str.split('/', n=1).str[-1]\n",
    "df['Country'] = df['Country'].str.split('/', n=1).str[-1]\n",
    "\n",
    "# Replacing header row \n",
    "new_header = df.iloc[0] \n",
    "df = df[1:] \n",
    "df.columns = new_header"
   ]
  },
  {
   "cell_type": "code",
   "execution_count": 144,
   "metadata": {},
   "outputs": [],
   "source": [
    "# Renaming columns\n",
    "df = df.rename(columns={'switzerland':'Country', 'Date':'Birth Date'})\n",
    "# df = df.rename(columns={ df.columns[25]: \"PPG\"})\n",
    "# df = df.rename(columns={ df.columns[24]: \"MP PG\"})\n",
    "# df = df.rename(columns={ df.columns[26]: \"TRB PG\"})\n",
    "# df = df.rename(columns={ df.columns[27]: \"AST PG\"})\n",
    "\n",
    "# Cleaning up country names\n",
    "df = df.replace(to_replace =\"antigua\", value =\"Antigua Barbuda\") \n",
    "df = df.replace(to_replace =\"cape\", value =\"Cape Verde\")\n",
    "df = df.replace(to_replace =\"czech\", value =\"Czech Republic\")\n",
    "df = df.replace(to_replace =\"dominican\", value =\"Dominican Republic\")\n",
    "df = df.replace(to_replace =\"french\", value =\"French Guiana\")\n",
    "df = df.replace(to_replace =\"new\", value =\"New Zealand\")\n",
    "df = df.replace(to_replace =\"puerto\", value =\"Puerto Rico\")\n",
    "df = df.replace(to_replace =\"saint\", value =\"Saint Lucia\")\n",
    "df = df.replace(to_replace =\"saintvincent\", value =\"Saint Vincent and the Grenadines\")\n",
    "df = df.replace(to_replace =\"south\", value =\"South Africa\")\n",
    "df = df.replace(to_replace =\"southsudan\", value =\"South Africa\")\n",
    "df = df.replace(to_replace =\"trinidad\", value =\"Trinidad & Tobago\")\n",
    "df = df.replace(to_replace =\"united\", value =\"United Kingdom\")\n",
    "df = df.replace(to_replace =\"us\", value =\"US Virgin Islands\")\n",
    "\n",
    "# Capitalizing the countries \n",
    "df['Country'] = df.Country.str.title() \n",
    "\n"
   ]
  },
  {
   "cell_type": "code",
   "execution_count": 145,
   "metadata": {},
   "outputs": [],
   "source": [
    "# Dropping duplicates\n",
    "df = df.drop_duplicates()\n",
    "\n",
    "# Dropping the Ranking column \n",
    "df = df.drop(['Rk'], axis=1)\n",
    "\n",
    "# Dropping the extra header rows that keep popping up\n",
    "df = df[~df.From.str.contains(\"From\")]"
   ]
  },
  {
   "cell_type": "code",
   "execution_count": 149,
   "metadata": {},
   "outputs": [],
   "source": [
    "#df.to_csv('data/cleaned/composite.csv', header = True)"
   ]
  },
  {
   "cell_type": "code",
   "execution_count": null,
   "metadata": {},
   "outputs": [],
   "source": []
  }
 ],
 "metadata": {
  "kernelspec": {
   "display_name": "Python 3",
   "language": "python",
   "name": "python3"
  },
  "language_info": {
   "codemirror_mode": {
    "name": "ipython",
    "version": 3
   },
   "file_extension": ".py",
   "mimetype": "text/x-python",
   "name": "python",
   "nbconvert_exporter": "python",
   "pygments_lexer": "ipython3",
   "version": "3.7.6"
  }
 },
 "nbformat": 4,
 "nbformat_minor": 4
}
